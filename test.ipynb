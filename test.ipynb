{
 "cells": [
  {
   "cell_type": "code",
   "execution_count": 1,
   "id": "initial_id",
   "metadata": {
    "collapsed": true,
    "ExecuteTime": {
     "end_time": "2025-02-14T10:08:57.565276Z",
     "start_time": "2025-02-14T10:08:53.274720Z"
    }
   },
   "outputs": [],
   "source": [
    "import pandas as pd\n",
    "\n",
    "df = pd.read_csv(\"datos_farmacia.csv\", low_memory=False)\n",
    "df = df[pd.to_numeric(df['codigo'], errors='coerce').notna()]\n",
    "df = df.drop(\n",
    "    columns=['Fecha', 'PvpOld', 'Xclie_IdCliente', 'Cliente', 'TipoCliente', 'entregado', 'TIPOTARIFA', 'ColorArticu',\n",
    "             'ColorCategoria', 'ColorCliente', 'ColorFamilia', 'ColorLista', 'linea_idventa', 'familiavend',\n",
    "             'idvendedor', 'TipoLineaVenta', 'TipoPago', 'NumCaja', 'DescuentoLinea', 'DescuentoOpera', 'Entrega',\n",
    "             'Devuelto', 'Importebruto', 'NumeroDoc', 'esfactura', 'TotalVenta', 'RecetaPendiente',\n",
    "             'NombreFamilia', 'Precio', 'Familia', 'tipolinea', 'Facturada', 'aportacion', 'TipoVenta',\n",
    "             'TotalVentaBruta', 'ImportePmc', 'ImporteNeto', 'idnlinea', 'unidades', 'dtolineaventa', 'dtooperaventa'])\n",
    "df['codigo'] = df['codigo'].astype(int)\n",
    "df['nombre'] = df['descripcion'].apply(lambda x: x.split()[0] if isinstance(x, str) else '')\n",
    "codigo_a_nombre = dict(zip(df['codigo'], df['nombre']))\n",
    "codigo_a_descripcion = dict(zip(df['codigo'], df['descripcion']))\n",
    "codigo_a_precio = dict(zip(df['codigo'], df['ImporteCoste']))\n",
    "df = df.groupby('IdVenta')['codigo'].apply(list).reset_index()\n",
    "\n",
    "df.to_csv(\"datos_farmacia_procesados.csv\", index=False)"
   ]
  },
  {
   "cell_type": "code",
   "outputs": [],
   "source": [],
   "metadata": {
    "collapsed": false
   },
   "id": "73b8945c984db2f4"
  }
 ],
 "metadata": {
  "kernelspec": {
   "display_name": "Python 3",
   "language": "python",
   "name": "python3"
  },
  "language_info": {
   "codemirror_mode": {
    "name": "ipython",
    "version": 2
   },
   "file_extension": ".py",
   "mimetype": "text/x-python",
   "name": "python",
   "nbconvert_exporter": "python",
   "pygments_lexer": "ipython2",
   "version": "2.7.6"
  }
 },
 "nbformat": 4,
 "nbformat_minor": 5
}
